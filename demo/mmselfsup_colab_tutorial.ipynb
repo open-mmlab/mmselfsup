{
  "cells": [
    {
      "cell_type": "markdown",
      "id": "c1604535",
      "metadata": {
        "id": "c1604535"
      },
      "source": [
        "<a href=\"https://colab.research.google.com/github/open-mmlab/mmselfsup/blob/master/demo/mmselfsup_colab_tutorial.ipynb\" target=\"_parent\"><img src=\"https://colab.research.google.com/assets/colab-badge.svg\" alt=\"Open In Colab\"/></a>"
      ]
    },
    {
      "cell_type": "markdown",
      "id": "d76e94d0",
      "metadata": {
        "id": "d76e94d0"
      },
      "source": [
        "# MMSelfSup Tutorial\n",
        "In this tutorial, we will introduce the following content:\n",
        "\n",
        "- How to install MMSelfSup\n",
        "- How to train the algorithm in MMSelfSup\n",
        "- How to train downstream tasks\n",
        "\n",
        "If you have any other questions, welcome to report issues."
      ]
    },
    {
      "cell_type": "markdown",
      "id": "8159aadf",
      "metadata": {
        "id": "8159aadf"
      },
      "source": [
        "## How to install MMSelfSup\n",
        "\n",
        "Before using MMSelfSup, we need to prepare the environment with the following steps:\n",
        "\n",
        "1. Install Python, CUDA, C/C++ compiler and git\n",
        "2. Install PyTorch (CUDA version)\n",
        "3. Install dependent codebase (mmcv, mmcls)\n",
        "4. Clone mmselfsup source code from GitHub and install it\n",
        "\n",
        "Because this tutorial is on Google Colab, and the basic environment has been completed, we can skip the first two steps."
      ]
    },
    {
      "cell_type": "code",
      "execution_count": 3,
      "id": "66ed8cfe",
      "metadata": {
        "colab": {
          "base_uri": "https://localhost:8080/"
        },
        "id": "66ed8cfe",
        "outputId": "0a841fb6-a866-4a43-9a64-b51a33e350e8"
      },
      "outputs": [
        {
          "output_type": "stream",
          "name": "stdout",
          "text": [
            "/content\n"
          ]
        }
      ],
      "source": [
        "!pwd"
      ]
    },
    {
      "cell_type": "code",
      "source": [
        "# Check nvcc version\n",
        "!nvcc -V"
      ],
      "metadata": {
        "colab": {
          "base_uri": "https://localhost:8080/"
        },
        "id": "86d5SBUQxpOm",
        "outputId": "0a07a2c3-c07a-43db-a5ab-3ee1ee59a81d"
      },
      "id": "86d5SBUQxpOm",
      "execution_count": 4,
      "outputs": [
        {
          "output_type": "stream",
          "name": "stdout",
          "text": [
            "nvcc: NVIDIA (R) Cuda compiler driver\n",
            "Copyright (c) 2005-2020 NVIDIA Corporation\n",
            "Built on Mon_Oct_12_20:09:46_PDT_2020\n",
            "Cuda compilation tools, release 11.1, V11.1.105\n",
            "Build cuda_11.1.TC455_06.29190527_0\n"
          ]
        }
      ]
    },
    {
      "cell_type": "code",
      "source": [
        "# Check GCC version\n",
        "!gcc --version"
      ],
      "metadata": {
        "colab": {
          "base_uri": "https://localhost:8080/"
        },
        "id": "rINWzY4ixpT-",
        "outputId": "4377974c-baad-4824-e30c-013a3fcc6fea"
      },
      "id": "rINWzY4ixpT-",
      "execution_count": 5,
      "outputs": [
        {
          "output_type": "stream",
          "name": "stdout",
          "text": [
            "gcc (Ubuntu 7.5.0-3ubuntu1~18.04) 7.5.0\n",
            "Copyright (C) 2017 Free Software Foundation, Inc.\n",
            "This is free software; see the source for copying conditions.  There is NO\n",
            "warranty; not even for MERCHANTABILITY or FITNESS FOR A PARTICULAR PURPOSE.\n",
            "\n"
          ]
        }
      ]
    },
    {
      "cell_type": "code",
      "execution_count": 6,
      "id": "ab8155aa",
      "metadata": {
        "colab": {
          "base_uri": "https://localhost:8080/"
        },
        "id": "ab8155aa",
        "outputId": "3cb7ed10-1ec0-4bc1-c08c-23828e561a9b"
      },
      "outputs": [
        {
          "output_type": "stream",
          "name": "stdout",
          "text": [
            "1.10.0+cu111\n",
            "True\n"
          ]
        }
      ],
      "source": [
        "# Check PyTorch installation\n",
        "import torch, torchvision\n",
        "print(torch.__version__)\n",
        "print(torch.cuda.is_available())"
      ]
    },
    {
      "cell_type": "markdown",
      "id": "18aad462",
      "metadata": {
        "id": "18aad462"
      },
      "source": [
        "## Install MMCV\n",
        "\n",
        "MMCV is the basic package of all OpenMMLab packages. We have pre-built wheels on Linux, so we can download and install them directly.\n",
        "\n",
        "Please pay attention to PyTorch and CUDA versions to match the wheel.\n",
        "\n",
        "In the above steps, we have checked the version of PyTorch and CUDA, and they are 1.10.2 and 11.3 respectively, so we need to choose the corresponding wheel.\n",
        "\n",
        "In addition, we can also install the full version of mmcv (mmcv-full). It includes full features and various CUDA ops out of the box, but needs a longer time to build."
      ]
    },
    {
      "cell_type": "markdown",
      "id": "89532489",
      "metadata": {
        "id": "89532489"
      },
      "source": [
        "MIM is recommended: https://github.com/open-mmlab/mim"
      ]
    },
    {
      "cell_type": "code",
      "execution_count": 7,
      "id": "fb3da020",
      "metadata": {
        "colab": {
          "base_uri": "https://localhost:8080/"
        },
        "id": "fb3da020",
        "outputId": "eaf5daaf-f3cc-42be-cec6-1d605f5acd01"
      },
      "outputs": [
        {
          "output_type": "stream",
          "name": "stdout",
          "text": [
            "Requirement already satisfied: openmim in /usr/local/lib/python3.7/dist-packages (0.1.5)\n",
            "Requirement already satisfied: Click==7.1.2 in /usr/local/lib/python3.7/dist-packages (from openmim) (7.1.2)\n",
            "Requirement already satisfied: pandas in /usr/local/lib/python3.7/dist-packages (from openmim) (1.3.5)\n",
            "Requirement already satisfied: colorama in /usr/local/lib/python3.7/dist-packages (from openmim) (0.4.4)\n",
            "Requirement already satisfied: tabulate in /usr/local/lib/python3.7/dist-packages (from openmim) (0.8.9)\n",
            "Requirement already satisfied: model-index in /usr/local/lib/python3.7/dist-packages (from openmim) (0.1.11)\n",
            "Requirement already satisfied: requests in /usr/local/lib/python3.7/dist-packages (from openmim) (2.23.0)\n",
            "Requirement already satisfied: pyyaml in /usr/local/lib/python3.7/dist-packages (from model-index->openmim) (3.13)\n",
            "Requirement already satisfied: ordered-set in /usr/local/lib/python3.7/dist-packages (from model-index->openmim) (4.1.0)\n",
            "Requirement already satisfied: markdown in /usr/local/lib/python3.7/dist-packages (from model-index->openmim) (3.3.6)\n",
            "Requirement already satisfied: importlib-metadata>=4.4 in /usr/local/lib/python3.7/dist-packages (from markdown->model-index->openmim) (4.11.2)\n",
            "Requirement already satisfied: typing-extensions>=3.6.4 in /usr/local/lib/python3.7/dist-packages (from importlib-metadata>=4.4->markdown->model-index->openmim) (3.10.0.2)\n",
            "Requirement already satisfied: zipp>=0.5 in /usr/local/lib/python3.7/dist-packages (from importlib-metadata>=4.4->markdown->model-index->openmim) (3.7.0)\n",
            "Requirement already satisfied: pytz>=2017.3 in /usr/local/lib/python3.7/dist-packages (from pandas->openmim) (2018.9)\n",
            "Requirement already satisfied: numpy>=1.17.3 in /usr/local/lib/python3.7/dist-packages (from pandas->openmim) (1.21.5)\n",
            "Requirement already satisfied: python-dateutil>=2.7.3 in /usr/local/lib/python3.7/dist-packages (from pandas->openmim) (2.8.2)\n",
            "Requirement already satisfied: six>=1.5 in /usr/local/lib/python3.7/dist-packages (from python-dateutil>=2.7.3->pandas->openmim) (1.15.0)\n",
            "Requirement already satisfied: urllib3!=1.25.0,!=1.25.1,<1.26,>=1.21.1 in /usr/local/lib/python3.7/dist-packages (from requests->openmim) (1.24.3)\n",
            "Requirement already satisfied: idna<3,>=2.5 in /usr/local/lib/python3.7/dist-packages (from requests->openmim) (2.10)\n",
            "Requirement already satisfied: certifi>=2017.4.17 in /usr/local/lib/python3.7/dist-packages (from requests->openmim) (2021.10.8)\n",
            "Requirement already satisfied: chardet<4,>=3.0.2 in /usr/local/lib/python3.7/dist-packages (from requests->openmim) (3.0.4)\n"
          ]
        }
      ],
      "source": [
        "!pip install openmim"
      ]
    },
    {
      "cell_type": "code",
      "execution_count": 10,
      "id": "e3e73f09",
      "metadata": {
        "colab": {
          "base_uri": "https://localhost:8080/"
        },
        "id": "e3e73f09",
        "outputId": "59895aeb-93a6-4952-90ec-c8ce8a67bdfb"
      },
      "outputs": [
        {
          "output_type": "stream",
          "name": "stdout",
          "text": [
            "installing mmcv-full from wheel.\n",
            "Looking in links: https://download.openmmlab.com/mmcv/dist/cu111/torch1.10.0/index.html\n",
            "Collecting mmcv-full==1.4.6\n",
            "  Downloading https://download.openmmlab.com/mmcv/dist/cu111/torch1.10.0/mmcv_full-1.4.6-cp37-cp37m-manylinux1_x86_64.whl (46.0 MB)\n",
            "\u001b[K     |████████████████████████████████| 46.0 MB 11.3 MB/s \n",
            "\u001b[?25hRequirement already satisfied: packaging in /usr/local/lib/python3.7/dist-packages (from mmcv-full==1.4.6) (21.3)\n",
            "Requirement already satisfied: pyyaml in /usr/local/lib/python3.7/dist-packages (from mmcv-full==1.4.6) (3.13)\n",
            "Requirement already satisfied: numpy in /usr/local/lib/python3.7/dist-packages (from mmcv-full==1.4.6) (1.21.5)\n",
            "Requirement already satisfied: Pillow in /usr/local/lib/python3.7/dist-packages (from mmcv-full==1.4.6) (7.1.2)\n",
            "Requirement already satisfied: opencv-python>=3 in /usr/local/lib/python3.7/dist-packages (from mmcv-full==1.4.6) (4.1.2.30)\n",
            "Collecting addict\n",
            "  Downloading addict-2.4.0-py3-none-any.whl (3.8 kB)\n",
            "Collecting yapf\n",
            "  Downloading yapf-0.32.0-py2.py3-none-any.whl (190 kB)\n",
            "\u001b[K     |████████████████████████████████| 190 kB 5.3 MB/s \n",
            "\u001b[?25hRequirement already satisfied: pyparsing!=3.0.5,>=2.0.2 in /usr/local/lib/python3.7/dist-packages (from packaging->mmcv-full==1.4.6) (3.0.7)\n",
            "Installing collected packages: yapf, addict, mmcv-full\n",
            "Successfully installed addict-2.4.0 mmcv-full-1.4.6 yapf-0.32.0\n",
            "\u001b[32mSuccessfully installed mmcv-full.\u001b[0m\n"
          ]
        }
      ],
      "source": [
        "!mim install mmcv-full"
      ]
    },
    {
      "cell_type": "markdown",
      "id": "86e6d589",
      "metadata": {
        "id": "86e6d589"
      },
      "source": [
        "Besides, you can also use pip to install the packages, but you are supposed to check the pytorch and cuda version mannually. The example commmand is provided below, but you need to modify it according to your PyTorch and CUDA version."
      ]
    },
    {
      "cell_type": "code",
      "execution_count": null,
      "id": "5b004a18",
      "metadata": {
        "id": "5b004a18"
      },
      "outputs": [],
      "source": [
        "# Install mmcv and mmcls\n",
        "# !pip install mmcv -f https://download.openmmlab.com/mmcv/dist/cu111/torch1.10/index.html\n",
        "# !pip install mmcv-full -f https://download.openmmlab.com/mmcv/dist/cu111/torch1.10/index.html"
      ]
    },
    {
      "cell_type": "markdown",
      "id": "54815b81",
      "metadata": {
        "id": "54815b81"
      },
      "source": [
        "## Clone and install mmselfsup"
      ]
    },
    {
      "cell_type": "code",
      "execution_count": 11,
      "id": "207561bb",
      "metadata": {
        "colab": {
          "base_uri": "https://localhost:8080/"
        },
        "id": "207561bb",
        "outputId": "0e2743a4-3adf-4e8a-e903-4c3789358f46"
      },
      "outputs": [
        {
          "output_type": "stream",
          "name": "stdout",
          "text": [
            "Cloning into 'mmselfsup'...\n",
            "remote: Enumerating objects: 3308, done.\u001b[K\n",
            "remote: Counting objects: 100% (930/930), done.\u001b[K\n",
            "remote: Compressing objects: 100% (560/560), done.\u001b[K\n",
            "remote: Total 3308 (delta 577), reused 475 (delta 369), pack-reused 2378\u001b[K\n",
            "Receiving objects: 100% (3308/3308), 1.97 MiB | 12.29 MiB/s, done.\n",
            "Resolving deltas: 100% (1950/1950), done.\n",
            "/content/mmselfsup\n",
            "Obtaining file:///content/mmselfsup\n",
            "Requirement already satisfied: future in /usr/local/lib/python3.7/dist-packages (from mmselfsup==0.7.1) (0.16.0)\n",
            "Requirement already satisfied: matplotlib in /usr/local/lib/python3.7/dist-packages (from mmselfsup==0.7.1) (3.2.2)\n",
            "Collecting mmcls<=0.20.1,>=0.19.0\n",
            "  Downloading mmcls-0.20.1-py2.py3-none-any.whl (490 kB)\n",
            "\u001b[K     |████████████████████████████████| 490 kB 5.3 MB/s \n",
            "\u001b[?25hRequirement already satisfied: numpy in /usr/local/lib/python3.7/dist-packages (from mmselfsup==0.7.1) (1.21.5)\n",
            "Requirement already satisfied: packaging in /usr/local/lib/python3.7/dist-packages (from mmselfsup==0.7.1) (21.3)\n",
            "Requirement already satisfied: scipy in /usr/local/lib/python3.7/dist-packages (from mmselfsup==0.7.1) (1.4.1)\n",
            "Requirement already satisfied: six in /usr/local/lib/python3.7/dist-packages (from mmselfsup==0.7.1) (1.15.0)\n",
            "Requirement already satisfied: sklearn in /usr/local/lib/python3.7/dist-packages (from mmselfsup==0.7.1) (0.0)\n",
            "Requirement already satisfied: tensorboard in /usr/local/lib/python3.7/dist-packages (from mmselfsup==0.7.1) (2.8.0)\n",
            "Collecting timm\n",
            "  Downloading timm-0.5.4-py3-none-any.whl (431 kB)\n",
            "\u001b[K     |████████████████████████████████| 431 kB 46.2 MB/s \n",
            "\u001b[?25hRequirement already satisfied: tqdm in /usr/local/lib/python3.7/dist-packages (from mmselfsup==0.7.1) (4.63.0)\n",
            "Requirement already satisfied: cycler>=0.10 in /usr/local/lib/python3.7/dist-packages (from matplotlib->mmselfsup==0.7.1) (0.11.0)\n",
            "Requirement already satisfied: python-dateutil>=2.1 in /usr/local/lib/python3.7/dist-packages (from matplotlib->mmselfsup==0.7.1) (2.8.2)\n",
            "Requirement already satisfied: pyparsing!=2.0.4,!=2.1.2,!=2.1.6,>=2.0.1 in /usr/local/lib/python3.7/dist-packages (from matplotlib->mmselfsup==0.7.1) (3.0.7)\n",
            "Requirement already satisfied: kiwisolver>=1.0.1 in /usr/local/lib/python3.7/dist-packages (from matplotlib->mmselfsup==0.7.1) (1.3.2)\n",
            "Requirement already satisfied: scikit-learn in /usr/local/lib/python3.7/dist-packages (from sklearn->mmselfsup==0.7.1) (1.0.2)\n",
            "Requirement already satisfied: joblib>=0.11 in /usr/local/lib/python3.7/dist-packages (from scikit-learn->sklearn->mmselfsup==0.7.1) (1.1.0)\n",
            "Requirement already satisfied: threadpoolctl>=2.0.0 in /usr/local/lib/python3.7/dist-packages (from scikit-learn->sklearn->mmselfsup==0.7.1) (3.1.0)\n",
            "Requirement already satisfied: setuptools>=41.0.0 in /usr/local/lib/python3.7/dist-packages (from tensorboard->mmselfsup==0.7.1) (57.4.0)\n",
            "Requirement already satisfied: werkzeug>=0.11.15 in /usr/local/lib/python3.7/dist-packages (from tensorboard->mmselfsup==0.7.1) (1.0.1)\n",
            "Requirement already satisfied: absl-py>=0.4 in /usr/local/lib/python3.7/dist-packages (from tensorboard->mmselfsup==0.7.1) (1.0.0)\n",
            "Requirement already satisfied: google-auth-oauthlib<0.5,>=0.4.1 in /usr/local/lib/python3.7/dist-packages (from tensorboard->mmselfsup==0.7.1) (0.4.6)\n",
            "Requirement already satisfied: markdown>=2.6.8 in /usr/local/lib/python3.7/dist-packages (from tensorboard->mmselfsup==0.7.1) (3.3.6)\n",
            "Requirement already satisfied: protobuf>=3.6.0 in /usr/local/lib/python3.7/dist-packages (from tensorboard->mmselfsup==0.7.1) (3.17.3)\n",
            "Requirement already satisfied: requests<3,>=2.21.0 in /usr/local/lib/python3.7/dist-packages (from tensorboard->mmselfsup==0.7.1) (2.23.0)\n",
            "Requirement already satisfied: tensorboard-data-server<0.7.0,>=0.6.0 in /usr/local/lib/python3.7/dist-packages (from tensorboard->mmselfsup==0.7.1) (0.6.1)\n",
            "Requirement already satisfied: wheel>=0.26 in /usr/local/lib/python3.7/dist-packages (from tensorboard->mmselfsup==0.7.1) (0.37.1)\n",
            "Requirement already satisfied: grpcio>=1.24.3 in /usr/local/lib/python3.7/dist-packages (from tensorboard->mmselfsup==0.7.1) (1.44.0)\n",
            "Requirement already satisfied: google-auth<3,>=1.6.3 in /usr/local/lib/python3.7/dist-packages (from tensorboard->mmselfsup==0.7.1) (1.35.0)\n",
            "Requirement already satisfied: tensorboard-plugin-wit>=1.6.0 in /usr/local/lib/python3.7/dist-packages (from tensorboard->mmselfsup==0.7.1) (1.8.1)\n",
            "Requirement already satisfied: pyasn1-modules>=0.2.1 in /usr/local/lib/python3.7/dist-packages (from google-auth<3,>=1.6.3->tensorboard->mmselfsup==0.7.1) (0.2.8)\n",
            "Requirement already satisfied: rsa<5,>=3.1.4 in /usr/local/lib/python3.7/dist-packages (from google-auth<3,>=1.6.3->tensorboard->mmselfsup==0.7.1) (4.8)\n",
            "Requirement already satisfied: cachetools<5.0,>=2.0.0 in /usr/local/lib/python3.7/dist-packages (from google-auth<3,>=1.6.3->tensorboard->mmselfsup==0.7.1) (4.2.4)\n",
            "Requirement already satisfied: requests-oauthlib>=0.7.0 in /usr/local/lib/python3.7/dist-packages (from google-auth-oauthlib<0.5,>=0.4.1->tensorboard->mmselfsup==0.7.1) (1.3.1)\n",
            "Requirement already satisfied: importlib-metadata>=4.4 in /usr/local/lib/python3.7/dist-packages (from markdown>=2.6.8->tensorboard->mmselfsup==0.7.1) (4.11.2)\n",
            "Requirement already satisfied: zipp>=0.5 in /usr/local/lib/python3.7/dist-packages (from importlib-metadata>=4.4->markdown>=2.6.8->tensorboard->mmselfsup==0.7.1) (3.7.0)\n",
            "Requirement already satisfied: typing-extensions>=3.6.4 in /usr/local/lib/python3.7/dist-packages (from importlib-metadata>=4.4->markdown>=2.6.8->tensorboard->mmselfsup==0.7.1) (3.10.0.2)\n",
            "Requirement already satisfied: pyasn1<0.5.0,>=0.4.6 in /usr/local/lib/python3.7/dist-packages (from pyasn1-modules>=0.2.1->google-auth<3,>=1.6.3->tensorboard->mmselfsup==0.7.1) (0.4.8)\n",
            "Requirement already satisfied: idna<3,>=2.5 in /usr/local/lib/python3.7/dist-packages (from requests<3,>=2.21.0->tensorboard->mmselfsup==0.7.1) (2.10)\n",
            "Requirement already satisfied: urllib3!=1.25.0,!=1.25.1,<1.26,>=1.21.1 in /usr/local/lib/python3.7/dist-packages (from requests<3,>=2.21.0->tensorboard->mmselfsup==0.7.1) (1.24.3)\n",
            "Requirement already satisfied: chardet<4,>=3.0.2 in /usr/local/lib/python3.7/dist-packages (from requests<3,>=2.21.0->tensorboard->mmselfsup==0.7.1) (3.0.4)\n",
            "Requirement already satisfied: certifi>=2017.4.17 in /usr/local/lib/python3.7/dist-packages (from requests<3,>=2.21.0->tensorboard->mmselfsup==0.7.1) (2021.10.8)\n",
            "Requirement already satisfied: oauthlib>=3.0.0 in /usr/local/lib/python3.7/dist-packages (from requests-oauthlib>=0.7.0->google-auth-oauthlib<0.5,>=0.4.1->tensorboard->mmselfsup==0.7.1) (3.2.0)\n",
            "Requirement already satisfied: torch>=1.4 in /usr/local/lib/python3.7/dist-packages (from timm->mmselfsup==0.7.1) (1.10.0+cu111)\n",
            "Requirement already satisfied: torchvision in /usr/local/lib/python3.7/dist-packages (from timm->mmselfsup==0.7.1) (0.11.1+cu111)\n",
            "Requirement already satisfied: pillow!=8.3.0,>=5.3.0 in /usr/local/lib/python3.7/dist-packages (from torchvision->timm->mmselfsup==0.7.1) (7.1.2)\n",
            "Installing collected packages: timm, mmcls, mmselfsup\n",
            "  Running setup.py develop for mmselfsup\n",
            "Successfully installed mmcls-0.20.1 mmselfsup-0.7.1 timm-0.5.4\n"
          ]
        }
      ],
      "source": [
        "# Clone MMSelfSup repository\n",
        "!git clone https://github.com/open-mmlab/mmselfsup.git\n",
        "%cd mmselfsup/\n",
        "\n",
        "# Install MMSelfSup from source\n",
        "!pip install -e . "
      ]
    },
    {
      "cell_type": "code",
      "execution_count": 12,
      "id": "53cda7d3",
      "metadata": {
        "colab": {
          "base_uri": "https://localhost:8080/"
        },
        "id": "53cda7d3",
        "outputId": "07e51858-c9c1-416b-c9ad-751762adeb1f"
      },
      "outputs": [
        {
          "output_type": "stream",
          "name": "stdout",
          "text": [
            "0.7.1\n"
          ]
        }
      ],
      "source": [
        "# Check MMSelfSup installation\n",
        "import mmselfsup\n",
        "print(mmselfsup.__version__)"
      ]
    },
    {
      "cell_type": "markdown",
      "id": "d36ec528",
      "metadata": {
        "id": "d36ec528"
      },
      "source": [
        "## Example to start a self-supervised task\n",
        "\n",
        "Before you start training, you need to prepare your dataset, please check [prepare_data.md](https://github.com/open-mmlab/mmselfsup/blob/master/docs/en/prepare_data.md) file carefully.\n",
        "\n",
        "**Note**: As we follow the original algorithms to implement our codes, so many algorithms are supposed to run on distributed mode, they are not supported on 1 GPU training officially. You can check it [here](https://github.com/open-mmlab/mmselfsup/blob/master/tools/train.py#L120).\n"
      ]
    },
    {
      "cell_type": "code",
      "source": [
        "!pwd"
      ],
      "metadata": {
        "colab": {
          "base_uri": "https://localhost:8080/"
        },
        "id": "4fCR3h5nn26l",
        "outputId": "80635a36-4086-463f-ba42-d67439004483"
      },
      "id": "4fCR3h5nn26l",
      "execution_count": 25,
      "outputs": [
        {
          "output_type": "stream",
          "name": "stdout",
          "text": [
            "/content/mmselfsup\n"
          ]
        }
      ]
    },
    {
      "cell_type": "markdown",
      "source": [
        "Here we provide a example and download a small dataset to display the demo."
      ],
      "metadata": {
        "id": "i-7LXl36VV--"
      },
      "id": "i-7LXl36VV--"
    },
    {
      "cell_type": "code",
      "source": [
        "!mkdir data\n",
        "!wget https://download.openmmlab.com/mmselfsup/data/imagenet.zip\n",
        "!unzip -q imagenet.zip -d ./data/"
      ],
      "metadata": {
        "colab": {
          "base_uri": "https://localhost:8080/"
        },
        "id": "VDM0ZHHKUZNP",
        "outputId": "d70fc632-e4b4-4901-cc82-91f4d4318175"
      },
      "id": "VDM0ZHHKUZNP",
      "execution_count": 26,
      "outputs": [
        {
          "output_type": "stream",
          "name": "stdout",
          "text": [
            "--2022-03-21 07:15:11--  https://download.openmmlab.com/mmselfsup/data/imagenet.zip\n",
            "Resolving download.openmmlab.com (download.openmmlab.com)... 47.252.96.28\n",
            "Connecting to download.openmmlab.com (download.openmmlab.com)|47.252.96.28|:443... connected.\n",
            "HTTP request sent, awaiting response... 200 OK\n",
            "Length: 155496559 (148M) [application/zip]\n",
            "Saving to: ‘imagenet.zip’\n",
            "\n",
            "imagenet.zip        100%[===================>] 148.29M  8.30MB/s    in 18s     \n",
            "\n",
            "2022-03-21 07:15:30 (8.31 MB/s) - ‘imagenet.zip’ saved [155496559/155496559]\n",
            "\n"
          ]
        }
      ]
    },
    {
      "cell_type": "code",
      "source": [
        "# Check data directory\n",
        "!apt-get install tree\n",
        "!tree -d ./data"
      ],
      "metadata": {
        "colab": {
          "base_uri": "https://localhost:8080/"
        },
        "id": "tOGY00U4WPGC",
        "outputId": "602b41a6-2124-4e51-c095-2a9694ef5daa"
      },
      "id": "tOGY00U4WPGC",
      "execution_count": 35,
      "outputs": [
        {
          "output_type": "stream",
          "name": "stdout",
          "text": [
            "Reading package lists... Done\n",
            "Building dependency tree       \n",
            "Reading state information... Done\n",
            "tree is already the newest version (1.7.0-5).\n",
            "0 upgraded, 0 newly installed, 0 to remove and 39 not upgraded.\n",
            "./data\n",
            "└── imagenet\n",
            "    ├── meta\n",
            "    └── train\n",
            "        └── n01440764\n",
            "\n",
            "4 directories\n"
          ]
        }
      ]
    },
    {
      "cell_type": "markdown",
      "source": [
        "### Create a new config file\n",
        "To reuse the common parts of different config files, we support inheriting multiple base config files. For example, to train `relative_loc` algorithm, the new config file can create the model's basic structure by inheriting `configs/_base_/models/relative-loc.py`."
      ],
      "metadata": {
        "id": "SF5vqi1nmqGh"
      },
      "id": "SF5vqi1nmqGh"
    },
    {
      "cell_type": "code",
      "source": [
        "%%writefile configs/selfsup/relative_loc/relative-loc_resnet50_8xb64-steplr-70e_in1k_colab.py\n",
        "_base_ = [\n",
        "    '../_base_/models/relative-loc.py',\n",
        "    '../_base_/datasets/imagenet_relative-loc.py',\n",
        "    '../_base_/schedules/sgd_steplr-200e_in1k.py',\n",
        "    '../_base_/default_runtime.py',\n",
        "]\n",
        "\n",
        "log_config = dict(interval=10)\n",
        "\n",
        "# optimizer\n",
        "optimizer = dict(\n",
        "    type='SGD',\n",
        "    lr=0.2,\n",
        "    weight_decay=1e-4,\n",
        "    momentum=0.9,\n",
        "    paramwise_options={\n",
        "        '\\\\Aneck.': dict(weight_decay=5e-4),\n",
        "        '\\\\Ahead.': dict(weight_decay=5e-4)\n",
        "    })\n",
        "\n",
        "# learning policy\n",
        "lr_config = dict(\n",
        "    policy='step',\n",
        "    step=[1])\n",
        "\n",
        "# runtime settings\n",
        "runner = dict(type='EpochBasedRunner', max_epochs=2)\n",
        "# the max_keep_ckpts controls the max number of ckpt file in your work_dirs\n",
        "# if it is 3, when CheckpointHook (in mmcv) saves the 4th ckpt\n",
        "# it will remove the oldest one to keep the number of total ckpts as 3\n",
        "checkpoint_config = dict(interval=1, max_keep_ckpts=3)\n"
      ],
      "metadata": {
        "colab": {
          "base_uri": "https://localhost:8080/"
        },
        "id": "h2y2bh9DnE8b",
        "outputId": "106f2e13-d4e7-4b1a-e9c8-adbc1a94edd5"
      },
      "id": "h2y2bh9DnE8b",
      "execution_count": 20,
      "outputs": [
        {
          "output_type": "stream",
          "name": "stdout",
          "text": [
            "Overwriting configs/selfsup/relative_loc/relative-loc_resnet50_8xb64-steplr-70e_in1k_colab.py\n"
          ]
        }
      ]
    },
    {
      "cell_type": "markdown",
      "source": [
        "Then you can use the command below to train the implemented algorithm."
      ],
      "metadata": {
        "id": "c6S-TDhnVfFT"
      },
      "id": "c6S-TDhnVfFT"
    },
    {
      "cell_type": "code",
      "source": [
        "# Here is just a simple example\n",
        "!python ./tools/train.py configs/selfsup/relative_loc/relative-loc_resnet50_8xb64-steplr-70e_in1k_colab.py"
      ],
      "metadata": {
        "colab": {
          "base_uri": "https://localhost:8080/"
        },
        "id": "knWhWQYHq2yF",
        "outputId": "825c9a77-3fef-4e14-b69f-5bda92717c11"
      },
      "id": "knWhWQYHq2yF",
      "execution_count": 21,
      "outputs": [
        {
          "output_type": "stream",
          "name": "stdout",
          "text": [
            "/usr/local/lib/python3.7/dist-packages/mmcv/utils/registry.py:255: DeprecationWarning: The old API of register_module(module, force=False) is deprecated and will be removed, please use the new API register_module(name=None, force=False, module=None) instead.\n",
            "  DeprecationWarning)\n",
            "/usr/lib/python3.7/importlib/_bootstrap.py:219: RuntimeWarning: numpy.ufunc size changed, may indicate binary incompatibility. Expected 192 from C header, got 216 from PyObject\n",
            "  return f(*args, **kwds)\n",
            "/usr/lib/python3.7/importlib/_bootstrap.py:219: RuntimeWarning: numpy.ufunc size changed, may indicate binary incompatibility. Expected 192 from C header, got 216 from PyObject\n",
            "  return f(*args, **kwds)\n",
            "/usr/local/lib/python3.7/dist-packages/scipy/special/orthogonal.py:81: DeprecationWarning: `np.int` is a deprecated alias for the builtin `int`. To silence this warning, use `int` by itself. Doing this will not modify any behavior and is safe. When replacing `np.int`, you may wish to use e.g. `np.int64` or `np.int32` to specify the precision. If you wish to review your current use, check the release note link for additional information.\n",
            "Deprecated in NumPy 1.20; for more details and guidance: https://numpy.org/devdocs/release/1.20.0-notes.html#deprecations\n",
            "  from numpy import (exp, inf, pi, sqrt, floor, sin, cos, around, int,\n",
            "/content/mmselfsup/mmselfsup/utils/setup_env.py:33: UserWarning: Setting OMP_NUM_THREADS environment variable for each process to be 1 in default, to avoid your system being overloaded, please further tune the variable for optimal performance in your application as needed.\n",
            "  f'Setting OMP_NUM_THREADS environment variable for each process '\n",
            "/content/mmselfsup/mmselfsup/utils/setup_env.py:43: UserWarning: Setting MKL_NUM_THREADS environment variable for each process to be 1 in default, to avoid your system being overloaded, please further tune the variable for optimal performance in your application as needed.\n",
            "  f'Setting MKL_NUM_THREADS environment variable for each process '\n",
            "./tools/train.py:105: UserWarning: `--gpus` is deprecated because we only support single GPU mode in non-distributed training. Use `gpus=1` now.\n",
            "  warnings.warn('`--gpus` is deprecated because we only support '\n",
            "2022-03-21 08:39:57,427 - mmselfsup - INFO - Environment info:\n",
            "------------------------------------------------------------\n",
            "sys.platform: linux\n",
            "Python: 3.7.12 (default, Jan 15 2022, 18:48:18) [GCC 7.5.0]\n",
            "CUDA available: True\n",
            "GPU 0: Tesla K80\n",
            "CUDA_HOME: /usr/local/cuda\n",
            "NVCC: Build cuda_11.1.TC455_06.29190527_0\n",
            "GCC: gcc (Ubuntu 7.5.0-3ubuntu1~18.04) 7.5.0\n",
            "PyTorch: 1.10.0+cu111\n",
            "PyTorch compiling details: PyTorch built with:\n",
            "  - GCC 7.3\n",
            "  - C++ Version: 201402\n",
            "  - Intel(R) Math Kernel Library Version 2020.0.0 Product Build 20191122 for Intel(R) 64 architecture applications\n",
            "  - Intel(R) MKL-DNN v2.2.3 (Git Hash 7336ca9f055cf1bfa13efb658fe15dc9b41f0740)\n",
            "  - OpenMP 201511 (a.k.a. OpenMP 4.5)\n",
            "  - LAPACK is enabled (usually provided by MKL)\n",
            "  - NNPACK is enabled\n",
            "  - CPU capability usage: AVX2\n",
            "  - CUDA Runtime 11.1\n",
            "  - NVCC architecture flags: -gencode;arch=compute_37,code=sm_37;-gencode;arch=compute_50,code=sm_50;-gencode;arch=compute_60,code=sm_60;-gencode;arch=compute_70,code=sm_70;-gencode;arch=compute_75,code=sm_75;-gencode;arch=compute_80,code=sm_80;-gencode;arch=compute_86,code=sm_86\n",
            "  - CuDNN 8.0.5\n",
            "  - Magma 2.5.2\n",
            "  - Build settings: BLAS_INFO=mkl, BUILD_TYPE=Release, CUDA_VERSION=11.1, CUDNN_VERSION=8.0.5, CXX_COMPILER=/opt/rh/devtoolset-7/root/usr/bin/c++, CXX_FLAGS= -Wno-deprecated -fvisibility-inlines-hidden -DUSE_PTHREADPOOL -fopenmp -DNDEBUG -DUSE_KINETO -DUSE_FBGEMM -DUSE_QNNPACK -DUSE_PYTORCH_QNNPACK -DUSE_XNNPACK -DSYMBOLICATE_MOBILE_DEBUG_HANDLE -DEDGE_PROFILER_USE_KINETO -O2 -fPIC -Wno-narrowing -Wall -Wextra -Werror=return-type -Wno-missing-field-initializers -Wno-type-limits -Wno-array-bounds -Wno-unknown-pragmas -Wno-sign-compare -Wno-unused-parameter -Wno-unused-variable -Wno-unused-function -Wno-unused-result -Wno-unused-local-typedefs -Wno-strict-overflow -Wno-strict-aliasing -Wno-error=deprecated-declarations -Wno-stringop-overflow -Wno-psabi -Wno-error=pedantic -Wno-error=redundant-decls -Wno-error=old-style-cast -fdiagnostics-color=always -faligned-new -Wno-unused-but-set-variable -Wno-maybe-uninitialized -fno-math-errno -fno-trapping-math -Werror=format -Wno-stringop-overflow, LAPACK_INFO=mkl, PERF_WITH_AVX=1, PERF_WITH_AVX2=1, PERF_WITH_AVX512=1, TORCH_VERSION=1.10.0, USE_CUDA=ON, USE_CUDNN=ON, USE_EXCEPTION_PTR=1, USE_GFLAGS=OFF, USE_GLOG=OFF, USE_MKL=ON, USE_MKLDNN=ON, USE_MPI=OFF, USE_NCCL=ON, USE_NNPACK=ON, USE_OPENMP=ON, \n",
            "\n",
            "TorchVision: 0.11.1+cu111\n",
            "OpenCV: 4.1.2\n",
            "MMCV: 1.4.6\n",
            "MMCV Compiler: GCC 7.3\n",
            "MMCV CUDA Compiler: 11.1\n",
            "MMSelfSup: 0.7.1+16d9bf2\n",
            "------------------------------------------------------------\n",
            "\n",
            "<string>:8: DeprecationWarning: invalid escape sequence \\A\n",
            "2022-03-21 08:39:57,539 - mmselfsup - INFO - Distributed training: False\n",
            "2022-03-21 08:39:57,642 - mmselfsup - INFO - Config:\n",
            "model = dict(\n",
            "    type='RelativeLoc',\n",
            "    backbone=dict(\n",
            "        type='ResNet',\n",
            "        depth=50,\n",
            "        in_channels=3,\n",
            "        out_indices=[4],\n",
            "        norm_cfg=dict(type='BN')),\n",
            "    neck=dict(\n",
            "        type='RelativeLocNeck',\n",
            "        in_channels=2048,\n",
            "        out_channels=4096,\n",
            "        with_avg_pool=True),\n",
            "    head=dict(\n",
            "        type='ClsHead',\n",
            "        with_avg_pool=False,\n",
            "        in_channels=4096,\n",
            "        num_classes=8,\n",
            "        init_cfg=[\n",
            "            dict(type='Normal', std=0.005, layer='Linear'),\n",
            "            dict(type='Constant', val=1, layer=['_BatchNorm', 'GroupNorm'])\n",
            "        ]))\n",
            "data_source = 'ImageNet'\n",
            "dataset_type = 'RelativeLocDataset'\n",
            "img_norm_cfg = dict(mean=[0.485, 0.456, 0.406], std=[0.229, 0.224, 0.225])\n",
            "train_pipeline = [\n",
            "    dict(type='Resize', size=292),\n",
            "    dict(type='RandomCrop', size=255),\n",
            "    dict(type='RandomGrayscale', p=0.66)\n",
            "]\n",
            "test_pipeline = [\n",
            "    dict(type='Resize', size=292),\n",
            "    dict(type='CenterCrop', size=255)\n",
            "]\n",
            "format_pipeline = [\n",
            "    dict(type='ToTensor'),\n",
            "    dict(\n",
            "        type='Normalize',\n",
            "        mean=[0.485, 0.456, 0.406],\n",
            "        std=[0.229, 0.224, 0.225])\n",
            "]\n",
            "prefetch = False\n",
            "data = dict(\n",
            "    samples_per_gpu=64,\n",
            "    workers_per_gpu=4,\n",
            "    train=dict(\n",
            "        type='RelativeLocDataset',\n",
            "        data_source=dict(\n",
            "            type='ImageNet',\n",
            "            data_prefix='data/imagenet/train',\n",
            "            ann_file='data/imagenet/meta/train.txt'),\n",
            "        pipeline=[\n",
            "            dict(type='Resize', size=292),\n",
            "            dict(type='RandomCrop', size=255),\n",
            "            dict(type='RandomGrayscale', p=0.66)\n",
            "        ],\n",
            "        format_pipeline=[\n",
            "            dict(type='ToTensor'),\n",
            "            dict(\n",
            "                type='Normalize',\n",
            "                mean=[0.485, 0.456, 0.406],\n",
            "                std=[0.229, 0.224, 0.225])\n",
            "        ],\n",
            "        prefetch=False),\n",
            "    val=dict(\n",
            "        type='RelativeLocDataset',\n",
            "        data_source=dict(\n",
            "            type='ImageNet',\n",
            "            data_prefix='data/imagenet/val',\n",
            "            ann_file='data/imagenet/meta/val.txt'),\n",
            "        pipeline=[\n",
            "            dict(type='Resize', size=292),\n",
            "            dict(type='CenterCrop', size=255)\n",
            "        ],\n",
            "        format_pipeline=[\n",
            "            dict(type='ToTensor'),\n",
            "            dict(\n",
            "                type='Normalize',\n",
            "                mean=[0.485, 0.456, 0.406],\n",
            "                std=[0.229, 0.224, 0.225])\n",
            "        ],\n",
            "        prefetch=False))\n",
            "optimizer = dict(\n",
            "    type='SGD',\n",
            "    lr=0.2,\n",
            "    weight_decay=0.0001,\n",
            "    momentum=0.9,\n",
            "    paramwise_options=dict({\n",
            "        '\\Aneck.': dict(weight_decay=0.0005),\n",
            "        '\\Ahead.': dict(weight_decay=0.0005)\n",
            "    }))\n",
            "optimizer_config = dict()\n",
            "lr_config = dict(policy='step', step=[1])\n",
            "runner = dict(type='EpochBasedRunner', max_epochs=2)\n",
            "checkpoint_config = dict(interval=1, max_keep_ckpts=3)\n",
            "log_config = dict(interval=10, hooks=[dict(type='TextLoggerHook')])\n",
            "dist_params = dict(backend='nccl')\n",
            "cudnn_benchmark = True\n",
            "log_level = 'INFO'\n",
            "load_from = None\n",
            "resume_from = None\n",
            "workflow = [('train', 1)]\n",
            "persistent_workers = True\n",
            "opencv_num_threads = 0\n",
            "mp_start_method = 'fork'\n",
            "work_dir = './work_dirs/selfsup/relative-loc_resnet50_8xb64-steplr-70e_in1k_colab'\n",
            "gpu_ids = range(0, 1)\n",
            "\n",
            "2022-03-21 08:39:57,642 - mmselfsup - INFO - Set random seed to 1455372833, deterministic: False\n",
            "2022-03-21 08:39:58,060 - mmselfsup - INFO - initialize ResNet with init_cfg [{'type': 'Kaiming', 'layer': 'Conv2d'}, {'type': 'Constant', 'val': 1, 'layer': ['_BatchNorm', 'GroupNorm']}]\n",
            "2022-03-21 08:39:58,333 - mmselfsup - INFO - initialize RelativeLocNeck with init_cfg [{'type': 'Normal', 'std': 0.01, 'layer': 'Linear'}, {'type': 'Constant', 'val': 1, 'layer': ['_BatchNorm', 'GroupNorm']}]\n",
            "2022-03-21 08:39:58,496 - mmselfsup - INFO - initialize ClsHead with init_cfg [{'type': 'Normal', 'std': 0.005, 'layer': 'Linear'}, {'type': 'Constant', 'val': 1, 'layer': ['_BatchNorm', 'GroupNorm']}]\n",
            "/content/mmselfsup/mmselfsup/datasets/base.py:29: UserWarning: The dataset part will be refactored, it will soon support `dict` in pipelines to save more information, the same as the pipeline in `MMDet`.\n",
            "  warnings.warn('The dataset part will be refactored, it will soon '\n",
            "/usr/local/lib/python3.7/dist-packages/torch/utils/data/dataloader.py:481: UserWarning: This DataLoader will create 4 worker processes in total. Our suggested max number of worker in current system is 2, which is smaller than what this DataLoader is going to create. Please be aware that excessive worker creation might get DataLoader running slow or even freeze, lower the worker number to avoid potential slowness/freeze if necessary.\n",
            "  cpuset_checked))\n",
            "paramwise_options --                                     neck.fc.weight: weight_decay=0.0005\n",
            "paramwise_options --                                     neck.fc.bias: weight_decay=0.0005\n",
            "paramwise_options --                                     neck.bn.weight: weight_decay=0.0005\n",
            "paramwise_options --                                     neck.bn.bias: weight_decay=0.0005\n",
            "paramwise_options --                                     head.fc_cls.weight: weight_decay=0.0005\n",
            "paramwise_options --                                     head.fc_cls.bias: weight_decay=0.0005\n",
            "2022-03-21 08:40:01,086 - mmselfsup - INFO - Start running, host: root@ffd6c61bdfc9, work_dir: /content/mmselfsup/work_dirs/selfsup/relative-loc_resnet50_8xb64-steplr-70e_in1k_colab\n",
            "2022-03-21 08:40:01,087 - mmselfsup - INFO - Hooks will be executed in the following order:\n",
            "before_run:\n",
            "(VERY_HIGH   ) StepLrUpdaterHook                  \n",
            "(NORMAL      ) CheckpointHook                     \n",
            "(VERY_LOW    ) TextLoggerHook                     \n",
            " -------------------- \n",
            "before_train_epoch:\n",
            "(VERY_HIGH   ) StepLrUpdaterHook                  \n",
            "(LOW         ) IterTimerHook                      \n",
            "(VERY_LOW    ) TextLoggerHook                     \n",
            " -------------------- \n",
            "before_train_iter:\n",
            "(VERY_HIGH   ) StepLrUpdaterHook                  \n",
            "(LOW         ) IterTimerHook                      \n",
            " -------------------- \n",
            "after_train_iter:\n",
            "(ABOVE_NORMAL) OptimizerHook                      \n",
            "(NORMAL      ) CheckpointHook                     \n",
            "(LOW         ) IterTimerHook                      \n",
            "(VERY_LOW    ) TextLoggerHook                     \n",
            " -------------------- \n",
            "after_train_epoch:\n",
            "(NORMAL      ) CheckpointHook                     \n",
            "(VERY_LOW    ) TextLoggerHook                     \n",
            " -------------------- \n",
            "before_val_epoch:\n",
            "(LOW         ) IterTimerHook                      \n",
            "(VERY_LOW    ) TextLoggerHook                     \n",
            " -------------------- \n",
            "before_val_iter:\n",
            "(LOW         ) IterTimerHook                      \n",
            " -------------------- \n",
            "after_val_iter:\n",
            "(LOW         ) IterTimerHook                      \n",
            " -------------------- \n",
            "after_val_epoch:\n",
            "(VERY_LOW    ) TextLoggerHook                     \n",
            " -------------------- \n",
            "after_run:\n",
            "(VERY_LOW    ) TextLoggerHook                     \n",
            " -------------------- \n",
            "2022-03-21 08:40:01,087 - mmselfsup - INFO - workflow: [('train', 1)], max: 2 epochs\n",
            "2022-03-21 08:40:01,087 - mmselfsup - INFO - Checkpoints will be saved to /content/mmselfsup/work_dirs/selfsup/relative-loc_resnet50_8xb64-steplr-70e_in1k_colab by HardDiskBackend.\n",
            "2022-03-21 08:40:37,214 - mmselfsup - INFO - Epoch [1][10/21]\tlr: 2.000e-01, eta: 0:01:54, time: 3.584, data_time: 0.780, memory: 8795, loss: 12.6440, acc: 12.6172\n",
            "2022-03-21 08:40:56,200 - mmselfsup - INFO - Epoch [1][20/21]\tlr: 2.000e-01, eta: 0:01:00, time: 1.899, data_time: 0.031, memory: 8795, loss: 7.6784, acc: 12.5781\n",
            "2022-03-21 08:41:01,797 - mmselfsup - INFO - Saving checkpoint at 1 epochs\n",
            "2022-03-21 08:41:28,419 - mmselfsup - INFO - Epoch [2][10/21]\tlr: 2.000e-02, eta: 0:00:28, time: 2.428, data_time: 0.546, memory: 8795, loss: 3.9173, acc: 13.1055\n",
            "2022-03-21 08:41:47,261 - mmselfsup - INFO - Epoch [2][20/21]\tlr: 2.000e-02, eta: 0:00:02, time: 1.884, data_time: 0.030, memory: 8795, loss: 3.5821, acc: 12.7539\n",
            "2022-03-21 08:41:47,832 - mmselfsup - INFO - Saving checkpoint at 2 epochs\n"
          ]
        }
      ]
    },
    {
      "cell_type": "markdown",
      "id": "4a78a656",
      "metadata": {
        "id": "4a78a656"
      },
      "source": [
        "## Example to start a downstream task\n"
      ]
    },
    {
      "cell_type": "code",
      "source": [
        "!pwd"
      ],
      "metadata": {
        "colab": {
          "base_uri": "https://localhost:8080/"
        },
        "id": "GH7JAKYifrsJ",
        "outputId": "083ea7b8-809a-47df-9f71-5dc54ba653f3"
      },
      "id": "GH7JAKYifrsJ",
      "execution_count": 15,
      "outputs": [
        {
          "output_type": "stream",
          "name": "stdout",
          "text": [
            "/content/mmselfsup\n"
          ]
        }
      ]
    },
    {
      "cell_type": "markdown",
      "source": [
        "### Prepare config file\n",
        "\n",
        "Here we create a new config file for demo dataset, actually we provided various config files in directory `configs/benchmarks`."
      ],
      "metadata": {
        "id": "zlrOaDo6tQtr"
      },
      "id": "zlrOaDo6tQtr"
    },
    {
      "cell_type": "code",
      "source": [
        "%%writefile configs/benchmarks/classification/imagenet/resnet50_8xb32-steplr-100e_in1k_colab.py\n",
        "_base_ = [\n",
        "    '../_base_/models/resnet50.py',\n",
        "    '../_base_/datasets/imagenet.py',\n",
        "    '../_base_/schedules/sgd_steplr-100e.py',\n",
        "    '../_base_/default_runtime.py',\n",
        "]\n",
        "\n",
        "log_config = dict(interval=10)\n",
        "\n",
        "model = dict(backbone=dict(frozen_stages=4))\n",
        "\n",
        "# dataset summary\n",
        "# as the demo only has small part of train dataset, so modified the path of val\n",
        "data = dict(\n",
        "    val=dict(\n",
        "        data_source=dict(\n",
        "            data_prefix='data/imagenet/train',\n",
        "            ann_file='data/imagenet/meta/train.txt',\n",
        "        )))\n",
        "evaluation = dict(interval=1, topk=(1, 5))\n",
        "\n",
        "# moco setting\n",
        "# optimizer\n",
        "optimizer = dict(type='SGD', lr=30., momentum=0.9, weight_decay=0.)\n",
        "\n",
        "# runtime settings\n",
        "runner = dict(type='EpochBasedRunner', max_epochs=2)\n",
        "# the max_keep_ckpts controls the max number of ckpt file in your work_dirs\n",
        "# if it is 3, when CheckpointHook (in mmcv) saves the 4th ckpt\n",
        "# it will remove the oldest one to keep the number of total ckpts as 3\n",
        "checkpoint_config = dict(interval=1, max_keep_ckpts=3)"
      ],
      "metadata": {
        "colab": {
          "base_uri": "https://localhost:8080/"
        },
        "id": "tYVW1halrrtJ",
        "outputId": "76280b1e-0ce4-4c32-e6ab-48e9b02daf18"
      },
      "id": "tYVW1halrrtJ",
      "execution_count": 28,
      "outputs": [
        {
          "output_type": "stream",
          "name": "stdout",
          "text": [
            "Overwriting configs/benchmarks/classification/imagenet/resnet50_8xb32-steplr-100e_in1k_colab.py\n"
          ]
        }
      ]
    },
    {
      "cell_type": "markdown",
      "source": [
        "### Extract backbone weights from pre-train model"
      ],
      "metadata": {
        "id": "sWJF28WhrDoD"
      },
      "id": "sWJF28WhrDoD"
    },
    {
      "cell_type": "code",
      "source": [
        "!python tools/model_converters/extract_backbone_weights.py \\\n",
        "  work_dirs/selfsup/relative-loc_resnet50_8xb64-steplr-70e_in1k_colab/epoch_2.pth \\\n",
        "  work_dirs/selfsup/relative-loc_resnet50_8xb64-steplr-70e_in1k_colab/relative-loc_backbone-weights.pth"
      ],
      "metadata": {
        "id": "cGHQcaLXrKsB"
      },
      "id": "cGHQcaLXrKsB",
      "execution_count": 26,
      "outputs": []
    },
    {
      "cell_type": "code",
      "source": [
        "!python -u tools/train.py configs/benchmarks/classification/imagenet/resnet50_8xb32-steplr-100e_in1k_colab.py \\\n",
        "  --cfg-options model.backbone.init_cfg.type=Pretrained \\\n",
        "  model.backbone.init_cfg.checkpoint=work_dirs/selfsup/relative-loc_resnet50_8xb64-steplr-70e_in1k_colab/relative-loc_backbone-weights.pth"
      ],
      "metadata": {
        "colab": {
          "base_uri": "https://localhost:8080/"
        },
        "id": "V47XfpN1ru-G",
        "outputId": "6f9bf9fe-0442-40de-8edc-a229c3d03818"
      },
      "id": "V47XfpN1ru-G",
      "execution_count": 30,
      "outputs": [
        {
          "output_type": "stream",
          "name": "stdout",
          "text": [
            "/usr/local/lib/python3.7/dist-packages/mmcv/utils/registry.py:255: DeprecationWarning: The old API of register_module(module, force=False) is deprecated and will be removed, please use the new API register_module(name=None, force=False, module=None) instead.\n",
            "  DeprecationWarning)\n",
            "/usr/lib/python3.7/importlib/_bootstrap.py:219: RuntimeWarning: numpy.ufunc size changed, may indicate binary incompatibility. Expected 192 from C header, got 216 from PyObject\n",
            "  return f(*args, **kwds)\n",
            "/usr/lib/python3.7/importlib/_bootstrap.py:219: RuntimeWarning: numpy.ufunc size changed, may indicate binary incompatibility. Expected 192 from C header, got 216 from PyObject\n",
            "  return f(*args, **kwds)\n",
            "/usr/local/lib/python3.7/dist-packages/scipy/special/orthogonal.py:81: DeprecationWarning: `np.int` is a deprecated alias for the builtin `int`. To silence this warning, use `int` by itself. Doing this will not modify any behavior and is safe. When replacing `np.int`, you may wish to use e.g. `np.int64` or `np.int32` to specify the precision. If you wish to review your current use, check the release note link for additional information.\n",
            "Deprecated in NumPy 1.20; for more details and guidance: https://numpy.org/devdocs/release/1.20.0-notes.html#deprecations\n",
            "  from numpy import (exp, inf, pi, sqrt, floor, sin, cos, around, int,\n",
            "/content/mmselfsup/mmselfsup/utils/setup_env.py:33: UserWarning: Setting OMP_NUM_THREADS environment variable for each process to be 1 in default, to avoid your system being overloaded, please further tune the variable for optimal performance in your application as needed.\n",
            "  f'Setting OMP_NUM_THREADS environment variable for each process '\n",
            "/content/mmselfsup/mmselfsup/utils/setup_env.py:43: UserWarning: Setting MKL_NUM_THREADS environment variable for each process to be 1 in default, to avoid your system being overloaded, please further tune the variable for optimal performance in your application as needed.\n",
            "  f'Setting MKL_NUM_THREADS environment variable for each process '\n",
            "tools/train.py:105: UserWarning: `--gpus` is deprecated because we only support single GPU mode in non-distributed training. Use `gpus=1` now.\n",
            "  warnings.warn('`--gpus` is deprecated because we only support '\n",
            "2022-03-21 08:56:50,167 - mmselfsup - INFO - Environment info:\n",
            "------------------------------------------------------------\n",
            "sys.platform: linux\n",
            "Python: 3.7.12 (default, Jan 15 2022, 18:48:18) [GCC 7.5.0]\n",
            "CUDA available: True\n",
            "GPU 0: Tesla K80\n",
            "CUDA_HOME: /usr/local/cuda\n",
            "NVCC: Build cuda_11.1.TC455_06.29190527_0\n",
            "GCC: gcc (Ubuntu 7.5.0-3ubuntu1~18.04) 7.5.0\n",
            "PyTorch: 1.10.0+cu111\n",
            "PyTorch compiling details: PyTorch built with:\n",
            "  - GCC 7.3\n",
            "  - C++ Version: 201402\n",
            "  - Intel(R) Math Kernel Library Version 2020.0.0 Product Build 20191122 for Intel(R) 64 architecture applications\n",
            "  - Intel(R) MKL-DNN v2.2.3 (Git Hash 7336ca9f055cf1bfa13efb658fe15dc9b41f0740)\n",
            "  - OpenMP 201511 (a.k.a. OpenMP 4.5)\n",
            "  - LAPACK is enabled (usually provided by MKL)\n",
            "  - NNPACK is enabled\n",
            "  - CPU capability usage: AVX2\n",
            "  - CUDA Runtime 11.1\n",
            "  - NVCC architecture flags: -gencode;arch=compute_37,code=sm_37;-gencode;arch=compute_50,code=sm_50;-gencode;arch=compute_60,code=sm_60;-gencode;arch=compute_70,code=sm_70;-gencode;arch=compute_75,code=sm_75;-gencode;arch=compute_80,code=sm_80;-gencode;arch=compute_86,code=sm_86\n",
            "  - CuDNN 8.0.5\n",
            "  - Magma 2.5.2\n",
            "  - Build settings: BLAS_INFO=mkl, BUILD_TYPE=Release, CUDA_VERSION=11.1, CUDNN_VERSION=8.0.5, CXX_COMPILER=/opt/rh/devtoolset-7/root/usr/bin/c++, CXX_FLAGS= -Wno-deprecated -fvisibility-inlines-hidden -DUSE_PTHREADPOOL -fopenmp -DNDEBUG -DUSE_KINETO -DUSE_FBGEMM -DUSE_QNNPACK -DUSE_PYTORCH_QNNPACK -DUSE_XNNPACK -DSYMBOLICATE_MOBILE_DEBUG_HANDLE -DEDGE_PROFILER_USE_KINETO -O2 -fPIC -Wno-narrowing -Wall -Wextra -Werror=return-type -Wno-missing-field-initializers -Wno-type-limits -Wno-array-bounds -Wno-unknown-pragmas -Wno-sign-compare -Wno-unused-parameter -Wno-unused-variable -Wno-unused-function -Wno-unused-result -Wno-unused-local-typedefs -Wno-strict-overflow -Wno-strict-aliasing -Wno-error=deprecated-declarations -Wno-stringop-overflow -Wno-psabi -Wno-error=pedantic -Wno-error=redundant-decls -Wno-error=old-style-cast -fdiagnostics-color=always -faligned-new -Wno-unused-but-set-variable -Wno-maybe-uninitialized -fno-math-errno -fno-trapping-math -Werror=format -Wno-stringop-overflow, LAPACK_INFO=mkl, PERF_WITH_AVX=1, PERF_WITH_AVX2=1, PERF_WITH_AVX512=1, TORCH_VERSION=1.10.0, USE_CUDA=ON, USE_CUDNN=ON, USE_EXCEPTION_PTR=1, USE_GFLAGS=OFF, USE_GLOG=OFF, USE_MKL=ON, USE_MKLDNN=ON, USE_MPI=OFF, USE_NCCL=ON, USE_NNPACK=ON, USE_OPENMP=ON, \n",
            "\n",
            "TorchVision: 0.11.1+cu111\n",
            "OpenCV: 4.1.2\n",
            "MMCV: 1.4.6\n",
            "MMCV Compiler: GCC 7.3\n",
            "MMCV CUDA Compiler: 11.1\n",
            "MMSelfSup: 0.7.1+16d9bf2\n",
            "------------------------------------------------------------\n",
            "\n",
            "2022-03-21 08:56:51,180 - mmselfsup - INFO - Distributed training: False\n",
            "2022-03-21 08:56:52,180 - mmselfsup - INFO - Config:\n",
            "model = dict(\n",
            "    type='Classification',\n",
            "    backbone=dict(\n",
            "        type='ResNet',\n",
            "        depth=50,\n",
            "        in_channels=3,\n",
            "        num_stages=4,\n",
            "        strides=(1, 2, 2, 2),\n",
            "        dilations=(1, 1, 1, 1),\n",
            "        out_indices=[4],\n",
            "        norm_cfg=dict(type='BN'),\n",
            "        frozen_stages=4,\n",
            "        init_cfg=dict(\n",
            "            type='Pretrained',\n",
            "            checkpoint=\n",
            "            'work_dirs/selfsup/relative-loc_resnet50_8xb64-steplr-70e_in1k_colab/relative-loc_backbone-weights.pth'\n",
            "        )),\n",
            "    head=dict(\n",
            "        type='ClsHead', with_avg_pool=True, in_channels=2048,\n",
            "        num_classes=1000))\n",
            "data_source = 'ImageNet'\n",
            "dataset_type = 'SingleViewDataset'\n",
            "img_norm_cfg = dict(mean=[0.485, 0.456, 0.406], std=[0.229, 0.224, 0.225])\n",
            "train_pipeline = [\n",
            "    dict(type='RandomResizedCrop', size=224),\n",
            "    dict(type='RandomHorizontalFlip'),\n",
            "    dict(type='ToTensor'),\n",
            "    dict(\n",
            "        type='Normalize',\n",
            "        mean=[0.485, 0.456, 0.406],\n",
            "        std=[0.229, 0.224, 0.225])\n",
            "]\n",
            "test_pipeline = [\n",
            "    dict(type='Resize', size=256),\n",
            "    dict(type='CenterCrop', size=224),\n",
            "    dict(type='ToTensor'),\n",
            "    dict(\n",
            "        type='Normalize',\n",
            "        mean=[0.485, 0.456, 0.406],\n",
            "        std=[0.229, 0.224, 0.225])\n",
            "]\n",
            "prefetch = False\n",
            "data = dict(\n",
            "    samples_per_gpu=32,\n",
            "    workers_per_gpu=4,\n",
            "    train=dict(\n",
            "        type='SingleViewDataset',\n",
            "        data_source=dict(\n",
            "            type='ImageNet',\n",
            "            data_prefix='data/imagenet/train',\n",
            "            ann_file='data/imagenet/meta/train.txt'),\n",
            "        pipeline=[\n",
            "            dict(type='RandomResizedCrop', size=224),\n",
            "            dict(type='RandomHorizontalFlip'),\n",
            "            dict(type='ToTensor'),\n",
            "            dict(\n",
            "                type='Normalize',\n",
            "                mean=[0.485, 0.456, 0.406],\n",
            "                std=[0.229, 0.224, 0.225])\n",
            "        ],\n",
            "        prefetch=False),\n",
            "    val=dict(\n",
            "        type='SingleViewDataset',\n",
            "        data_source=dict(\n",
            "            type='ImageNet',\n",
            "            data_prefix='data/imagenet/train',\n",
            "            ann_file='data/imagenet/meta/train.txt'),\n",
            "        pipeline=[\n",
            "            dict(type='Resize', size=256),\n",
            "            dict(type='CenterCrop', size=224),\n",
            "            dict(type='ToTensor'),\n",
            "            dict(\n",
            "                type='Normalize',\n",
            "                mean=[0.485, 0.456, 0.406],\n",
            "                std=[0.229, 0.224, 0.225])\n",
            "        ],\n",
            "        prefetch=False))\n",
            "evaluation = dict(interval=1, topk=(1, 5))\n",
            "optimizer = dict(type='SGD', lr=30.0, momentum=0.9, weight_decay=0.0)\n",
            "lr_config = dict(policy='step', step=[60, 80])\n",
            "runner = dict(type='EpochBasedRunner', max_epochs=2)\n",
            "train_cfg = dict()\n",
            "test_cfg = dict()\n",
            "optimizer_config = dict()\n",
            "log_config = dict(interval=10, hooks=[dict(type='TextLoggerHook')])\n",
            "dist_params = dict(backend='nccl')\n",
            "cudnn_benchmark = True\n",
            "log_level = 'INFO'\n",
            "load_from = None\n",
            "resume_from = None\n",
            "workflow = [('train', 1)]\n",
            "persistent_workers = True\n",
            "opencv_num_threads = 0\n",
            "mp_start_method = 'fork'\n",
            "checkpoint_config = dict(interval=1, max_keep_ckpts=3)\n",
            "work_dir = './work_dirs/benchmarks/resnet50_8xb32-steplr-100e_in1k_colab'\n",
            "gpu_ids = range(0, 1)\n",
            "\n",
            "2022-03-21 08:56:52,181 - mmselfsup - INFO - Set random seed to 167838685, deterministic: False\n",
            "2022-03-21 08:56:52,454 - mmselfsup - INFO - initialize ResNet with init_cfg {'type': 'Pretrained', 'checkpoint': 'work_dirs/selfsup/relative-loc_resnet50_8xb64-steplr-70e_in1k_colab/relative-loc_backbone-weights.pth'}\n",
            "2022-03-21 08:56:52,454 - mmcv - INFO - load model from: work_dirs/selfsup/relative-loc_resnet50_8xb64-steplr-70e_in1k_colab/relative-loc_backbone-weights.pth\n",
            "2022-03-21 08:56:52,455 - mmcv - INFO - load checkpoint from local path: work_dirs/selfsup/relative-loc_resnet50_8xb64-steplr-70e_in1k_colab/relative-loc_backbone-weights.pth\n",
            "2022-03-21 08:56:52,600 - mmselfsup - INFO - initialize ClsHead with init_cfg [{'type': 'Normal', 'std': 0.01, 'layer': 'Linear'}, {'type': 'Constant', 'val': 1, 'layer': ['_BatchNorm', 'GroupNorm']}]\n",
            "/content/mmselfsup/mmselfsup/datasets/base.py:29: UserWarning: The dataset part will be refactored, it will soon support `dict` in pipelines to save more information, the same as the pipeline in `MMDet`.\n",
            "  warnings.warn('The dataset part will be refactored, it will soon '\n",
            "/usr/local/lib/python3.7/dist-packages/torch/utils/data/dataloader.py:481: UserWarning: This DataLoader will create 4 worker processes in total. Our suggested max number of worker in current system is 2, which is smaller than what this DataLoader is going to create. Please be aware that excessive worker creation might get DataLoader running slow or even freeze, lower the worker number to avoid potential slowness/freeze if necessary.\n",
            "  cpuset_checked))\n",
            "2022-03-21 08:56:56,158 - mmselfsup - INFO - Start running, host: root@ffd6c61bdfc9, work_dir: /content/mmselfsup/work_dirs/benchmarks/resnet50_8xb32-steplr-100e_in1k_colab\n",
            "2022-03-21 08:56:56,158 - mmselfsup - INFO - Hooks will be executed in the following order:\n",
            "before_run:\n",
            "(VERY_HIGH   ) StepLrUpdaterHook                  \n",
            "(NORMAL      ) CheckpointHook                     \n",
            "(LOW         ) EvalHook                           \n",
            "(VERY_LOW    ) TextLoggerHook                     \n",
            " -------------------- \n",
            "before_train_epoch:\n",
            "(VERY_HIGH   ) StepLrUpdaterHook                  \n",
            "(LOW         ) IterTimerHook                      \n",
            "(LOW         ) EvalHook                           \n",
            "(VERY_LOW    ) TextLoggerHook                     \n",
            " -------------------- \n",
            "before_train_iter:\n",
            "(VERY_HIGH   ) StepLrUpdaterHook                  \n",
            "(LOW         ) IterTimerHook                      \n",
            "(LOW         ) EvalHook                           \n",
            " -------------------- \n",
            "after_train_iter:\n",
            "(ABOVE_NORMAL) OptimizerHook                      \n",
            "(NORMAL      ) CheckpointHook                     \n",
            "(LOW         ) IterTimerHook                      \n",
            "(LOW         ) EvalHook                           \n",
            "(VERY_LOW    ) TextLoggerHook                     \n",
            " -------------------- \n",
            "after_train_epoch:\n",
            "(NORMAL      ) CheckpointHook                     \n",
            "(LOW         ) EvalHook                           \n",
            "(VERY_LOW    ) TextLoggerHook                     \n",
            " -------------------- \n",
            "before_val_epoch:\n",
            "(LOW         ) IterTimerHook                      \n",
            "(VERY_LOW    ) TextLoggerHook                     \n",
            " -------------------- \n",
            "before_val_iter:\n",
            "(LOW         ) IterTimerHook                      \n",
            " -------------------- \n",
            "after_val_iter:\n",
            "(LOW         ) IterTimerHook                      \n",
            " -------------------- \n",
            "after_val_epoch:\n",
            "(VERY_LOW    ) TextLoggerHook                     \n",
            " -------------------- \n",
            "after_run:\n",
            "(VERY_LOW    ) TextLoggerHook                     \n",
            " -------------------- \n",
            "2022-03-21 08:56:56,159 - mmselfsup - INFO - workflow: [('train', 1)], max: 2 epochs\n",
            "2022-03-21 08:56:56,159 - mmselfsup - INFO - Checkpoints will be saved to /content/mmselfsup/work_dirs/benchmarks/resnet50_8xb32-steplr-100e_in1k_colab by HardDiskBackend.\n",
            "2022-03-21 08:57:04,332 - mmselfsup - INFO - Epoch [1][10/41]\tlr: 3.000e+01, eta: 0:00:58, time: 0.817, data_time: 0.403, memory: 2607, loss: 1.5644, acc: 90.0000\n",
            "2022-03-21 08:57:08,420 - mmselfsup - INFO - Epoch [1][20/41]\tlr: 3.000e+01, eta: 0:00:37, time: 0.409, data_time: 0.215, memory: 2607, loss: 0.0000, acc: 100.0000\n",
            "2022-03-21 08:57:12,964 - mmselfsup - INFO - Epoch [1][30/41]\tlr: 3.000e+01, eta: 0:00:29, time: 0.454, data_time: 0.256, memory: 2607, loss: 0.0000, acc: 100.0000\n",
            "2022-03-21 08:57:17,184 - mmselfsup - INFO - Epoch [1][40/41]\tlr: 3.000e+01, eta: 0:00:22, time: 0.422, data_time: 0.219, memory: 2607, loss: 0.0000, acc: 100.0000\n",
            "2022-03-21 08:57:18,987 - mmselfsup - INFO - Saving checkpoint at 1 epochs\n",
            "[>>] 41/41, 2.1 task/s, elapsed: 20s, ETA:     0s2022-03-21 08:57:39,527 - mmselfsup - INFO - head4_top1: 100.000\n",
            "2022-03-21 08:57:39,528 - mmselfsup - INFO - head4_top5: 100.000\n",
            "2022-03-21 08:57:39,529 - mmselfsup - INFO - Exp name: resnet50_8xb32-steplr-100e_in1k_colab.py\n",
            "2022-03-21 08:57:39,529 - mmselfsup - INFO - Epoch(val) [1][41]\thead4_top1: 100.0000, head4_top5: 100.0000\n",
            "2022-03-21 08:57:47,632 - mmselfsup - INFO - Epoch [2][10/41]\tlr: 3.000e+01, eta: 0:00:17, time: 0.810, data_time: 0.595, memory: 2607, loss: 0.0000, acc: 100.0000\n",
            "2022-03-21 08:57:51,733 - mmselfsup - INFO - Epoch [2][20/41]\tlr: 3.000e+01, eta: 0:00:11, time: 0.410, data_time: 0.202, memory: 2607, loss: 0.0000, acc: 100.0000\n",
            "2022-03-21 08:57:56,473 - mmselfsup - INFO - Epoch [2][30/41]\tlr: 3.000e+01, eta: 0:00:05, time: 0.474, data_time: 0.268, memory: 2607, loss: 0.0000, acc: 100.0000\n",
            "2022-03-21 08:57:59,592 - mmselfsup - INFO - Epoch [2][40/41]\tlr: 3.000e+01, eta: 0:00:00, time: 0.312, data_time: 0.108, memory: 2607, loss: 0.0000, acc: 100.0000\n",
            "2022-03-21 08:57:59,744 - mmselfsup - INFO - Saving checkpoint at 2 epochs\n",
            "[>>] 41/41, 2.1 task/s, elapsed: 19s, ETA:     0s2022-03-21 08:58:19,946 - mmselfsup - INFO - head4_top1: 100.000\n",
            "2022-03-21 08:58:19,946 - mmselfsup - INFO - head4_top5: 100.000\n",
            "2022-03-21 08:58:19,947 - mmselfsup - INFO - Exp name: resnet50_8xb32-steplr-100e_in1k_colab.py\n",
            "2022-03-21 08:58:19,947 - mmselfsup - INFO - Epoch(val) [2][41]\thead4_top1: 100.0000, head4_top5: 100.0000\n"
          ]
        }
      ]
    },
    {
      "cell_type": "markdown",
      "source": [
        "**Note: As the demo only has one class in dataset, the model collapsed and the results of loss and acc should be ignored.**"
      ],
      "metadata": {
        "id": "3DUKbf3Rs2D_"
      },
      "id": "3DUKbf3Rs2D_"
    },
    {
      "cell_type": "markdown",
      "source": [
        "### Download pre-train model provided by MMSelfSup"
      ],
      "metadata": {
        "id": "HqAsEVBtq5yF"
      },
      "id": "HqAsEVBtq5yF"
    },
    {
      "cell_type": "code",
      "source": [
        "# Download pre-train model\n",
        "%cd models/\n",
        "!wget https://download.openmmlab.com/mmselfsup/moco/mocov2_resnet50_8xb32-coslr-200e_in1k_20220225-89e03af4.pth\n",
        "%cd /content/mmselfsup/"
      ],
      "metadata": {
        "colab": {
          "base_uri": "https://localhost:8080/"
        },
        "id": "HOF1RJn0hWoj",
        "outputId": "64291d7a-5493-469e-9216-ae576e08821d"
      },
      "id": "HOF1RJn0hWoj",
      "execution_count": 14,
      "outputs": [
        {
          "output_type": "stream",
          "name": "stdout",
          "text": [
            "--2022-03-21 08:22:09--  https://download.openmmlab.com/mmselfsup/moco/mocov2_resnet50_8xb32-coslr-200e_in1k_20220225-89e03af4.pth\n",
            "Resolving download.openmmlab.com (download.openmmlab.com)... 47.252.96.28\n",
            "Connecting to download.openmmlab.com (download.openmmlab.com)|47.252.96.28|:443... connected.\n",
            "HTTP request sent, awaiting response... 200 OK\n",
            "Length: 94291945 (90M) [application/octet-stream]\n",
            "Saving to: ‘mocov2_resnet50_8xb32-coslr-200e_in1k_20220225-89e03af4.pth’\n",
            "\n",
            "mocov2_resnet50_8xb 100%[===================>]  89.92M  6.94MB/s    in 14s     \n",
            "\n",
            "2022-03-21 08:22:23 (6.61 MB/s) - ‘mocov2_resnet50_8xb32-coslr-200e_in1k_20220225-89e03af4.pth’ saved [94291945/94291945]\n",
            "\n",
            "/content/mmselfsup\n"
          ]
        }
      ]
    },
    {
      "cell_type": "code",
      "source": [
        "# start linear probing traing\n",
        "!python -u tools/train.py configs/benchmarks/classification/imagenet/resnet50_8xb32-steplr-100e_in1k_colab.py \\\n",
        "  --cfg-options model.backbone.init_cfg.type=Pretrained \\\n",
        "  model.backbone.init_cfg.checkpoint=https://download.openmmlab.com/mmselfsup/moco/mocov2_resnet50_8xb32-coslr-200e_in1k_20220225-89e03af4.pth"
      ],
      "metadata": {
        "colab": {
          "base_uri": "https://localhost:8080/"
        },
        "id": "dkIhAKgDklF_",
        "outputId": "8d7a7608-21d8-4e0d-b8f2-3ab40ce335dc"
      },
      "id": "dkIhAKgDklF_",
      "execution_count": 29,
      "outputs": [
        {
          "output_type": "stream",
          "name": "stdout",
          "text": [
            "/usr/local/lib/python3.7/dist-packages/mmcv/utils/registry.py:255: DeprecationWarning: The old API of register_module(module, force=False) is deprecated and will be removed, please use the new API register_module(name=None, force=False, module=None) instead.\n",
            "  DeprecationWarning)\n",
            "/usr/lib/python3.7/importlib/_bootstrap.py:219: RuntimeWarning: numpy.ufunc size changed, may indicate binary incompatibility. Expected 192 from C header, got 216 from PyObject\n",
            "  return f(*args, **kwds)\n",
            "/usr/lib/python3.7/importlib/_bootstrap.py:219: RuntimeWarning: numpy.ufunc size changed, may indicate binary incompatibility. Expected 192 from C header, got 216 from PyObject\n",
            "  return f(*args, **kwds)\n",
            "/usr/local/lib/python3.7/dist-packages/scipy/special/orthogonal.py:81: DeprecationWarning: `np.int` is a deprecated alias for the builtin `int`. To silence this warning, use `int` by itself. Doing this will not modify any behavior and is safe. When replacing `np.int`, you may wish to use e.g. `np.int64` or `np.int32` to specify the precision. If you wish to review your current use, check the release note link for additional information.\n",
            "Deprecated in NumPy 1.20; for more details and guidance: https://numpy.org/devdocs/release/1.20.0-notes.html#deprecations\n",
            "  from numpy import (exp, inf, pi, sqrt, floor, sin, cos, around, int,\n",
            "/content/mmselfsup/mmselfsup/utils/setup_env.py:33: UserWarning: Setting OMP_NUM_THREADS environment variable for each process to be 1 in default, to avoid your system being overloaded, please further tune the variable for optimal performance in your application as needed.\n",
            "  f'Setting OMP_NUM_THREADS environment variable for each process '\n",
            "/content/mmselfsup/mmselfsup/utils/setup_env.py:43: UserWarning: Setting MKL_NUM_THREADS environment variable for each process to be 1 in default, to avoid your system being overloaded, please further tune the variable for optimal performance in your application as needed.\n",
            "  f'Setting MKL_NUM_THREADS environment variable for each process '\n",
            "tools/train.py:105: UserWarning: `--gpus` is deprecated because we only support single GPU mode in non-distributed training. Use `gpus=1` now.\n",
            "  warnings.warn('`--gpus` is deprecated because we only support '\n",
            "2022-03-21 08:54:43,263 - mmselfsup - INFO - Environment info:\n",
            "------------------------------------------------------------\n",
            "sys.platform: linux\n",
            "Python: 3.7.12 (default, Jan 15 2022, 18:48:18) [GCC 7.5.0]\n",
            "CUDA available: True\n",
            "GPU 0: Tesla K80\n",
            "CUDA_HOME: /usr/local/cuda\n",
            "NVCC: Build cuda_11.1.TC455_06.29190527_0\n",
            "GCC: gcc (Ubuntu 7.5.0-3ubuntu1~18.04) 7.5.0\n",
            "PyTorch: 1.10.0+cu111\n",
            "PyTorch compiling details: PyTorch built with:\n",
            "  - GCC 7.3\n",
            "  - C++ Version: 201402\n",
            "  - Intel(R) Math Kernel Library Version 2020.0.0 Product Build 20191122 for Intel(R) 64 architecture applications\n",
            "  - Intel(R) MKL-DNN v2.2.3 (Git Hash 7336ca9f055cf1bfa13efb658fe15dc9b41f0740)\n",
            "  - OpenMP 201511 (a.k.a. OpenMP 4.5)\n",
            "  - LAPACK is enabled (usually provided by MKL)\n",
            "  - NNPACK is enabled\n",
            "  - CPU capability usage: AVX2\n",
            "  - CUDA Runtime 11.1\n",
            "  - NVCC architecture flags: -gencode;arch=compute_37,code=sm_37;-gencode;arch=compute_50,code=sm_50;-gencode;arch=compute_60,code=sm_60;-gencode;arch=compute_70,code=sm_70;-gencode;arch=compute_75,code=sm_75;-gencode;arch=compute_80,code=sm_80;-gencode;arch=compute_86,code=sm_86\n",
            "  - CuDNN 8.0.5\n",
            "  - Magma 2.5.2\n",
            "  - Build settings: BLAS_INFO=mkl, BUILD_TYPE=Release, CUDA_VERSION=11.1, CUDNN_VERSION=8.0.5, CXX_COMPILER=/opt/rh/devtoolset-7/root/usr/bin/c++, CXX_FLAGS= -Wno-deprecated -fvisibility-inlines-hidden -DUSE_PTHREADPOOL -fopenmp -DNDEBUG -DUSE_KINETO -DUSE_FBGEMM -DUSE_QNNPACK -DUSE_PYTORCH_QNNPACK -DUSE_XNNPACK -DSYMBOLICATE_MOBILE_DEBUG_HANDLE -DEDGE_PROFILER_USE_KINETO -O2 -fPIC -Wno-narrowing -Wall -Wextra -Werror=return-type -Wno-missing-field-initializers -Wno-type-limits -Wno-array-bounds -Wno-unknown-pragmas -Wno-sign-compare -Wno-unused-parameter -Wno-unused-variable -Wno-unused-function -Wno-unused-result -Wno-unused-local-typedefs -Wno-strict-overflow -Wno-strict-aliasing -Wno-error=deprecated-declarations -Wno-stringop-overflow -Wno-psabi -Wno-error=pedantic -Wno-error=redundant-decls -Wno-error=old-style-cast -fdiagnostics-color=always -faligned-new -Wno-unused-but-set-variable -Wno-maybe-uninitialized -fno-math-errno -fno-trapping-math -Werror=format -Wno-stringop-overflow, LAPACK_INFO=mkl, PERF_WITH_AVX=1, PERF_WITH_AVX2=1, PERF_WITH_AVX512=1, TORCH_VERSION=1.10.0, USE_CUDA=ON, USE_CUDNN=ON, USE_EXCEPTION_PTR=1, USE_GFLAGS=OFF, USE_GLOG=OFF, USE_MKL=ON, USE_MKLDNN=ON, USE_MPI=OFF, USE_NCCL=ON, USE_NNPACK=ON, USE_OPENMP=ON, \n",
            "\n",
            "TorchVision: 0.11.1+cu111\n",
            "OpenCV: 4.1.2\n",
            "MMCV: 1.4.6\n",
            "MMCV Compiler: GCC 7.3\n",
            "MMCV CUDA Compiler: 11.1\n",
            "MMSelfSup: 0.7.1+16d9bf2\n",
            "------------------------------------------------------------\n",
            "\n",
            "2022-03-21 08:54:44,245 - mmselfsup - INFO - Distributed training: False\n",
            "2022-03-21 08:54:45,229 - mmselfsup - INFO - Config:\n",
            "model = dict(\n",
            "    type='Classification',\n",
            "    backbone=dict(\n",
            "        type='ResNet',\n",
            "        depth=50,\n",
            "        in_channels=3,\n",
            "        num_stages=4,\n",
            "        strides=(1, 2, 2, 2),\n",
            "        dilations=(1, 1, 1, 1),\n",
            "        out_indices=[4],\n",
            "        norm_cfg=dict(type='BN'),\n",
            "        frozen_stages=4,\n",
            "        init_cfg=dict(\n",
            "            type='Pretrained',\n",
            "            checkpoint=\n",
            "            'https://download.openmmlab.com/mmselfsup/moco/mocov2_resnet50_8xb32-coslr-200e_in1k_20220225-89e03af4.pth'\n",
            "        )),\n",
            "    head=dict(\n",
            "        type='ClsHead', with_avg_pool=True, in_channels=2048,\n",
            "        num_classes=1000))\n",
            "data_source = 'ImageNet'\n",
            "dataset_type = 'SingleViewDataset'\n",
            "img_norm_cfg = dict(mean=[0.485, 0.456, 0.406], std=[0.229, 0.224, 0.225])\n",
            "train_pipeline = [\n",
            "    dict(type='RandomResizedCrop', size=224),\n",
            "    dict(type='RandomHorizontalFlip'),\n",
            "    dict(type='ToTensor'),\n",
            "    dict(\n",
            "        type='Normalize',\n",
            "        mean=[0.485, 0.456, 0.406],\n",
            "        std=[0.229, 0.224, 0.225])\n",
            "]\n",
            "test_pipeline = [\n",
            "    dict(type='Resize', size=256),\n",
            "    dict(type='CenterCrop', size=224),\n",
            "    dict(type='ToTensor'),\n",
            "    dict(\n",
            "        type='Normalize',\n",
            "        mean=[0.485, 0.456, 0.406],\n",
            "        std=[0.229, 0.224, 0.225])\n",
            "]\n",
            "prefetch = False\n",
            "data = dict(\n",
            "    samples_per_gpu=32,\n",
            "    workers_per_gpu=4,\n",
            "    train=dict(\n",
            "        type='SingleViewDataset',\n",
            "        data_source=dict(\n",
            "            type='ImageNet',\n",
            "            data_prefix='data/imagenet/train',\n",
            "            ann_file='data/imagenet/meta/train.txt'),\n",
            "        pipeline=[\n",
            "            dict(type='RandomResizedCrop', size=224),\n",
            "            dict(type='RandomHorizontalFlip'),\n",
            "            dict(type='ToTensor'),\n",
            "            dict(\n",
            "                type='Normalize',\n",
            "                mean=[0.485, 0.456, 0.406],\n",
            "                std=[0.229, 0.224, 0.225])\n",
            "        ],\n",
            "        prefetch=False),\n",
            "    val=dict(\n",
            "        type='SingleViewDataset',\n",
            "        data_source=dict(\n",
            "            type='ImageNet',\n",
            "            data_prefix='data/imagenet/train',\n",
            "            ann_file='data/imagenet/meta/train.txt'),\n",
            "        pipeline=[\n",
            "            dict(type='Resize', size=256),\n",
            "            dict(type='CenterCrop', size=224),\n",
            "            dict(type='ToTensor'),\n",
            "            dict(\n",
            "                type='Normalize',\n",
            "                mean=[0.485, 0.456, 0.406],\n",
            "                std=[0.229, 0.224, 0.225])\n",
            "        ],\n",
            "        prefetch=False))\n",
            "evaluation = dict(interval=1, topk=(1, 5))\n",
            "optimizer = dict(type='SGD', lr=30.0, momentum=0.9, weight_decay=0.0)\n",
            "lr_config = dict(policy='step', step=[60, 80])\n",
            "runner = dict(type='EpochBasedRunner', max_epochs=2)\n",
            "train_cfg = dict()\n",
            "test_cfg = dict()\n",
            "optimizer_config = dict()\n",
            "log_config = dict(interval=10, hooks=[dict(type='TextLoggerHook')])\n",
            "dist_params = dict(backend='nccl')\n",
            "cudnn_benchmark = True\n",
            "log_level = 'INFO'\n",
            "load_from = None\n",
            "resume_from = None\n",
            "workflow = [('train', 1)]\n",
            "persistent_workers = True\n",
            "opencv_num_threads = 0\n",
            "mp_start_method = 'fork'\n",
            "checkpoint_config = dict(interval=1, max_keep_ckpts=3)\n",
            "work_dir = './work_dirs/benchmarks/resnet50_8xb32-steplr-100e_in1k_colab'\n",
            "gpu_ids = range(0, 1)\n",
            "\n",
            "2022-03-21 08:54:45,229 - mmselfsup - INFO - Set random seed to 2058826835, deterministic: False\n",
            "2022-03-21 08:54:45,497 - mmselfsup - INFO - initialize ResNet with init_cfg {'type': 'Pretrained', 'checkpoint': 'https://download.openmmlab.com/mmselfsup/moco/mocov2_resnet50_8xb32-coslr-200e_in1k_20220225-89e03af4.pth'}\n",
            "2022-03-21 08:54:45,497 - mmcv - INFO - load model from: https://download.openmmlab.com/mmselfsup/moco/mocov2_resnet50_8xb32-coslr-200e_in1k_20220225-89e03af4.pth\n",
            "2022-03-21 08:54:45,498 - mmcv - INFO - load checkpoint from http path: https://download.openmmlab.com/mmselfsup/moco/mocov2_resnet50_8xb32-coslr-200e_in1k_20220225-89e03af4.pth\n",
            "Downloading: \"https://download.openmmlab.com/mmselfsup/moco/mocov2_resnet50_8xb32-coslr-200e_in1k_20220225-89e03af4.pth\" to /root/.cache/torch/hub/checkpoints/mocov2_resnet50_8xb32-coslr-200e_in1k_20220225-89e03af4.pth\n",
            "100% 89.9M/89.9M [00:09<00:00, 9.59MB/s]\n",
            "2022-03-21 08:54:56,666 - mmselfsup - INFO - initialize ClsHead with init_cfg [{'type': 'Normal', 'std': 0.01, 'layer': 'Linear'}, {'type': 'Constant', 'val': 1, 'layer': ['_BatchNorm', 'GroupNorm']}]\n",
            "/content/mmselfsup/mmselfsup/datasets/base.py:29: UserWarning: The dataset part will be refactored, it will soon support `dict` in pipelines to save more information, the same as the pipeline in `MMDet`.\n",
            "  warnings.warn('The dataset part will be refactored, it will soon '\n",
            "/usr/local/lib/python3.7/dist-packages/torch/utils/data/dataloader.py:481: UserWarning: This DataLoader will create 4 worker processes in total. Our suggested max number of worker in current system is 2, which is smaller than what this DataLoader is going to create. Please be aware that excessive worker creation might get DataLoader running slow or even freeze, lower the worker number to avoid potential slowness/freeze if necessary.\n",
            "  cpuset_checked))\n",
            "2022-03-21 08:55:00,318 - mmselfsup - INFO - Start running, host: root@ffd6c61bdfc9, work_dir: /content/mmselfsup/work_dirs/benchmarks/resnet50_8xb32-steplr-100e_in1k_colab\n",
            "2022-03-21 08:55:00,319 - mmselfsup - INFO - Hooks will be executed in the following order:\n",
            "before_run:\n",
            "(VERY_HIGH   ) StepLrUpdaterHook                  \n",
            "(NORMAL      ) CheckpointHook                     \n",
            "(LOW         ) EvalHook                           \n",
            "(VERY_LOW    ) TextLoggerHook                     \n",
            " -------------------- \n",
            "before_train_epoch:\n",
            "(VERY_HIGH   ) StepLrUpdaterHook                  \n",
            "(LOW         ) IterTimerHook                      \n",
            "(LOW         ) EvalHook                           \n",
            "(VERY_LOW    ) TextLoggerHook                     \n",
            " -------------------- \n",
            "before_train_iter:\n",
            "(VERY_HIGH   ) StepLrUpdaterHook                  \n",
            "(LOW         ) IterTimerHook                      \n",
            "(LOW         ) EvalHook                           \n",
            " -------------------- \n",
            "after_train_iter:\n",
            "(ABOVE_NORMAL) OptimizerHook                      \n",
            "(NORMAL      ) CheckpointHook                     \n",
            "(LOW         ) IterTimerHook                      \n",
            "(LOW         ) EvalHook                           \n",
            "(VERY_LOW    ) TextLoggerHook                     \n",
            " -------------------- \n",
            "after_train_epoch:\n",
            "(NORMAL      ) CheckpointHook                     \n",
            "(LOW         ) EvalHook                           \n",
            "(VERY_LOW    ) TextLoggerHook                     \n",
            " -------------------- \n",
            "before_val_epoch:\n",
            "(LOW         ) IterTimerHook                      \n",
            "(VERY_LOW    ) TextLoggerHook                     \n",
            " -------------------- \n",
            "before_val_iter:\n",
            "(LOW         ) IterTimerHook                      \n",
            " -------------------- \n",
            "after_val_iter:\n",
            "(LOW         ) IterTimerHook                      \n",
            " -------------------- \n",
            "after_val_epoch:\n",
            "(VERY_LOW    ) TextLoggerHook                     \n",
            " -------------------- \n",
            "after_run:\n",
            "(VERY_LOW    ) TextLoggerHook                     \n",
            " -------------------- \n",
            "2022-03-21 08:55:00,319 - mmselfsup - INFO - workflow: [('train', 1)], max: 2 epochs\n",
            "2022-03-21 08:55:00,319 - mmselfsup - INFO - Checkpoints will be saved to /content/mmselfsup/work_dirs/benchmarks/resnet50_8xb32-steplr-100e_in1k_colab by HardDiskBackend.\n",
            "2022-03-21 08:55:08,899 - mmselfsup - INFO - Epoch [1][10/41]\tlr: 3.000e+01, eta: 0:01:01, time: 0.858, data_time: 0.450, memory: 2607, loss: 0.6904, acc: 90.0000\n",
            "2022-03-21 08:55:12,125 - mmselfsup - INFO - Epoch [1][20/41]\tlr: 3.000e+01, eta: 0:00:36, time: 0.323, data_time: 0.127, memory: 2607, loss: 0.0000, acc: 100.0000\n",
            "2022-03-21 08:55:17,132 - mmselfsup - INFO - Epoch [1][30/41]\tlr: 3.000e+01, eta: 0:00:29, time: 0.501, data_time: 0.302, memory: 2607, loss: 0.0000, acc: 100.0000\n",
            "2022-03-21 08:55:20,242 - mmselfsup - INFO - Epoch [1][40/41]\tlr: 3.000e+01, eta: 0:00:20, time: 0.311, data_time: 0.114, memory: 2607, loss: 0.0000, acc: 100.0000\n",
            "2022-03-21 08:55:22,000 - mmselfsup - INFO - Saving checkpoint at 1 epochs\n",
            "[>>] 41/41, 2.1 task/s, elapsed: 19s, ETA:     0s2022-03-21 08:55:42,090 - mmselfsup - INFO - head4_top1: 100.000\n",
            "2022-03-21 08:55:42,091 - mmselfsup - INFO - head4_top5: 100.000\n",
            "2022-03-21 08:55:42,091 - mmselfsup - INFO - Exp name: resnet50_8xb32-steplr-100e_in1k_colab.py\n",
            "2022-03-21 08:55:42,091 - mmselfsup - INFO - Epoch(val) [1][41]\thead4_top1: 100.0000, head4_top5: 100.0000\n",
            "2022-03-21 08:55:49,655 - mmselfsup - INFO - Epoch [2][10/41]\tlr: 3.000e+01, eta: 0:00:16, time: 0.756, data_time: 0.548, memory: 2607, loss: 0.0000, acc: 100.0000\n",
            "2022-03-21 08:55:53,786 - mmselfsup - INFO - Epoch [2][20/41]\tlr: 3.000e+01, eta: 0:00:10, time: 0.413, data_time: 0.207, memory: 2607, loss: 0.0000, acc: 100.0000\n",
            "2022-03-21 08:55:58,488 - mmselfsup - INFO - Epoch [2][30/41]\tlr: 3.000e+01, eta: 0:00:05, time: 0.470, data_time: 0.265, memory: 2607, loss: 0.0000, acc: 100.0000\n",
            "2022-03-21 08:56:02,003 - mmselfsup - INFO - Epoch [2][40/41]\tlr: 3.000e+01, eta: 0:00:00, time: 0.351, data_time: 0.152, memory: 2607, loss: 0.0000, acc: 100.0000\n",
            "2022-03-21 08:56:02,148 - mmselfsup - INFO - Saving checkpoint at 2 epochs\n",
            "[>>] 41/41, 2.1 task/s, elapsed: 19s, ETA:     0s2022-03-21 08:56:22,244 - mmselfsup - INFO - head4_top1: 100.000\n",
            "2022-03-21 08:56:22,244 - mmselfsup - INFO - head4_top5: 100.000\n",
            "2022-03-21 08:56:22,244 - mmselfsup - INFO - Exp name: resnet50_8xb32-steplr-100e_in1k_colab.py\n",
            "2022-03-21 08:56:22,245 - mmselfsup - INFO - Epoch(val) [2][41]\thead4_top1: 100.0000, head4_top5: 100.0000\n"
          ]
        }
      ]
    },
    {
      "cell_type": "markdown",
      "source": [
        "**Note: As the demo only has one class in dataset, the model collapsed and the results of loss and acc should be ignored.**"
      ],
      "metadata": {
        "id": "QVA6lB4Wqa6l"
      },
      "id": "QVA6lB4Wqa6l"
    }
  ],
  "metadata": {
    "kernelspec": {
      "display_name": "Python 3 (ipykernel)",
      "language": "python",
      "name": "python3"
    },
    "language_info": {
      "codemirror_mode": {
        "name": "ipython",
        "version": 3
      },
      "file_extension": ".py",
      "mimetype": "text/x-python",
      "name": "python",
      "nbconvert_exporter": "python",
      "pygments_lexer": "ipython3",
      "version": "3.8.12"
    },
    "colab": {
      "name": "mmselfsup_tutorial.ipynb",
      "provenance": [],
      "collapsed_sections": []
    },
    "accelerator": "GPU"
  },
  "nbformat": 4,
  "nbformat_minor": 5
}
